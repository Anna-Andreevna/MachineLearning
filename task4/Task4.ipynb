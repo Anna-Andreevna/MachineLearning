{
 "cells": [
  {
   "cell_type": "code",
   "execution_count": 1,
   "metadata": {},
   "outputs": [],
   "source": [
    "import numpy as np\n",
    "import pandas as pd\n",
    "import matplotlib.pyplot as plt\n",
    "import seaborn as sns\n",
    "from sklearn.model_selection import train_test_split\n",
    "import xgboost as xgb\n",
    "from sklearn.ensemble import RandomForestRegressor\n",
    "from sklearn.metrics import mean_squared_error\n",
    "from sklearn.utils import shuffle\n",
    "import itertools\n",
    "from sklearn.model_selection import cross_val_score, KFold\n",
    "from tqdm import tqdm"
   ]
  },
  {
   "attachments": {},
   "cell_type": "markdown",
   "metadata": {},
   "source": [
    "# preprocessing"
   ]
  },
  {
   "cell_type": "code",
   "execution_count": 124,
   "metadata": {},
   "outputs": [],
   "source": [
    "train_df = pd.read_csv(\"train.csv\")\n",
    "test_df = pd.read_csv(\"test.csv\")\n",
    "common_df = pd.concat([train_df, test_df])"
   ]
  },
  {
   "cell_type": "code",
   "execution_count": 125,
   "metadata": {},
   "outputs": [],
   "source": [
    "null_df = common_df.isnull()\n",
    "def fill_nan(feachure1, feachure2):\n",
    "    val1, val2 = ('NA', None) if common_df[feachure1].dtype == \"object\" else (0, np.nan) \n",
    "    common_df[feachure1] = np.where(null_df[feachure1], np.where(common_df[feachure2] ==0, val1, val2), common_df[feachure1])\n",
    "fill_nan('FireplaceQu', 'Fireplaces')\n",
    "fill_nan('MiscFeature', 'MiscVal')\n",
    "fill_nan('PoolQC', 'PoolArea')\n",
    "\n",
    "common_df.fillna({'GarageCars':0}, inplace=True)\n",
    "for feachure in ['GarageArea', 'GarageCond', 'GarageFinish', 'GarageQual', 'GarageType', 'GarageYrBlt']:\n",
    "    fill_nan(feachure, 'GarageCars')\n",
    "\n",
    "common_df.fillna({'TotalBsmtSF': 0}, inplace=True)\n",
    "for feature in ['BsmtQual', 'BsmtCond', 'BsmtExposure', 'BsmtFinType1', 'BsmtFinSF1', 'BsmtFinType2', 'BsmtFinSF2', 'BsmtUnfSF']:\n",
    "    fill_nan(feature, 'TotalBsmtSF')"
   ]
  },
  {
   "cell_type": "code",
   "execution_count": 126,
   "metadata": {},
   "outputs": [],
   "source": [
    "def cat_cont_coloumns(df):\n",
    "    cat_numerous = ['MSSubClass'] # 'MSSubClass', MoSold?\n",
    "    cat_coloumns = [cname for cname in df.columns if df[cname].dtype == \"object\"] + cat_numerous\n",
    "    cont_coloumns = [cname for cname in df.columns if df[cname].dtype in ['int64', 'float64'] and not cname in cat_numerous]\n",
    "    return cat_coloumns, cont_coloumns\n",
    "\n",
    "cat_coloumns, cont_coloumns = cat_cont_coloumns(common_df)"
   ]
  },
  {
   "cell_type": "code",
   "execution_count": 127,
   "metadata": {},
   "outputs": [
    {
     "data": {
      "text/plain": [
       "array(['Electrical', 'KitchenQual', 'SaleType', 'BsmtFinType2',\n",
       "       'GarageYrBlt', 'GarageQual', 'GarageFinish', 'Exterior2nd',\n",
       "       'Exterior1st', 'MiscFeature', 'GarageCond', 'BsmtQual',\n",
       "       'Utilities', 'BsmtFullBath', 'BsmtHalfBath', 'Functional',\n",
       "       'BsmtExposure', 'PoolQC', 'BsmtCond', 'MSZoning', 'MasVnrArea',\n",
       "       'MasVnrType', 'LotFrontage', 'Fence', 'Alley'], dtype=object)"
      ]
     },
     "execution_count": 127,
     "metadata": {},
     "output_type": "execute_result"
    }
   ],
   "source": [
    "null_df = common_df.isnull()\n",
    "null_val = null_df.sum()\n",
    "features_to_fill = np.array(null_val[null_val > 0].sort_values().keys())\n",
    "features_to_fill = np.delete(features_to_fill, -3)\n",
    "features_to_fill"
   ]
  },
  {
   "cell_type": "code",
   "execution_count": 128,
   "metadata": {},
   "outputs": [],
   "source": [
    "def simple_fill_nan(df):\n",
    "    values = {}\n",
    "    for a in cat_coloumns:\n",
    "        values[a] = -1\n",
    "\n",
    "    for a in cont_coloumns:\n",
    "        values[a] = df[a].median()\n",
    "        \n",
    "    return df.fillna(value=values, inplace=True)"
   ]
  },
  {
   "cell_type": "code",
   "execution_count": 129,
   "metadata": {},
   "outputs": [],
   "source": [
    "simple_fill_nan(common_df)\n",
    "common_df['SalePrice'] = np.log1p(common_df['SalePrice'])"
   ]
  },
  {
   "cell_type": "code",
   "execution_count": 130,
   "metadata": {},
   "outputs": [],
   "source": [
    "import category_encoders as ce\n",
    "def target_encoding(df):\n",
    "    encoder = ce.JamesSteinEncoder(return_df=True)\n",
    "    copy = df.copy(deep=True)\n",
    "    copy[cat_coloumns] = encoder.fit_transform(copy[cat_coloumns], copy['SalePrice'])\n",
    "    return copy"
   ]
  },
  {
   "cell_type": "code",
   "execution_count": 131,
   "metadata": {},
   "outputs": [],
   "source": [
    "def split_x_y(df, y_f, drop_fs):\n",
    "        y = df[y_f].to_numpy()\n",
    "        encoded = target_encoding(df)\n",
    "        X = encoded.drop([y_f] + drop_fs, axis=1)\n",
    "        return X.to_numpy(float), y"
   ]
  },
  {
   "cell_type": "code",
   "execution_count": 132,
   "metadata": {},
   "outputs": [],
   "source": [
    "from sklearn.linear_model import LinearRegression, LogisticRegression\n",
    "def regression_fill_nan(features):\n",
    "    for i in range(10):\n",
    "        for feature in features:\n",
    "            X, y = split_x_y(common_df, feature, ['Id', 'SalePrice'])\n",
    "            model = LogisticRegression() if feature in cat_coloumns else LinearRegression()\n",
    "            mask = null_df[feature].to_numpy()\n",
    "            model.fit(X[mask == False], y[mask == False])\n",
    "            init_y = common_df[feature].to_numpy()\n",
    "            preds = model.predict(X[mask])\n",
    "            init_y[np.where(mask)] = preds\n",
    "            common_df[feature] = init_y"
   ]
  },
  {
   "cell_type": "code",
   "execution_count": null,
   "metadata": {},
   "outputs": [],
   "source": [
    "regression_fill_nan(features_to_fill)"
   ]
  },
  {
   "cell_type": "code",
   "execution_count": 136,
   "metadata": {},
   "outputs": [],
   "source": [
    "encoded_common_df = target_encoding(common_df)\n",
    "encoded_train_df = encoded_common_df.iloc[:1460, :]\n",
    "encoded_test_df = encoded_common_df.iloc[1460:, :]"
   ]
  },
  {
   "cell_type": "code",
   "execution_count": 137,
   "metadata": {},
   "outputs": [
    {
     "name": "stdout",
     "output_type": "stream",
     "text": [
      "Warning: No categorical columns found. Calling 'transform' will only return input data.\n",
      "Warning: No categorical columns found. Calling 'transform' will only return input data.\n"
     ]
    }
   ],
   "source": [
    "        \n",
    "train, test = train_test_split(encoded_train_df, train_size=0.8, random_state=98987)\n",
    "X_train, y_train, X_test, y_test = *split_x_y(train, 'SalePrice', ['Id']), *split_x_y(test, 'SalePrice', ['Id'])\n",
    "X_shuffle, y_shuffle = shuffle(X_train, y_train, random_state=42)"
   ]
  },
  {
   "cell_type": "code",
   "execution_count": 107,
   "metadata": {},
   "outputs": [],
   "source": [
    "def show(model):\n",
    "    plt.figure().set_size_inches(10, 5)\n",
    "    plt.subplot(1, 2, 1)\n",
    "    _ = plt.plot(model.predict(X_train) - y_train)\n",
    "    plt.subplot(1, 2, 2)\n",
    "    _ = plt.plot(model.predict(X_test) - y_test)"
   ]
  },
  {
   "attachments": {},
   "cell_type": "markdown",
   "metadata": {},
   "source": [
    "# xgboost"
   ]
  },
  {
   "cell_type": "code",
   "execution_count": 154,
   "metadata": {},
   "outputs": [],
   "source": [
    "n_estimators = [200, 300, 400]\n",
    "max_depth = [10, 30, None]\n",
    "learning_rate = [0.5, 0.1, 0.05]\n",
    "hp = list(itertools.product(n_estimators, max_depth, learning_rate))"
   ]
  },
  {
   "cell_type": "code",
   "execution_count": 155,
   "metadata": {},
   "outputs": [
    {
     "name": "stderr",
     "output_type": "stream",
     "text": [
      "100%|██████████| 27/27 [01:00<00:00,  2.25s/it]\n"
     ]
    }
   ],
   "source": [
    "best_hp = None\n",
    "best_score = None\n",
    "for n, d, l in tqdm(hp):\n",
    "       model_xgb = xgb.XGBRegressor(learning_rate=l, max_depth=d, n_estimators=n)\n",
    "       acc_scores = cross_val_score(model_xgb, X_shuffle, y_shuffle,\n",
    "                         scoring='neg_mean_squared_error',\n",
    "                         cv=KFold())\n",
    "       score = acc_scores.mean()\n",
    "       if best_score is None or best_score < score:\n",
    "              best_hp = (n, d, l)\n",
    "              best_score = score"
   ]
  },
  {
   "cell_type": "code",
   "execution_count": 156,
   "metadata": {},
   "outputs": [
    {
     "name": "stdout",
     "output_type": "stream",
     "text": [
      "(400, None, 0.1) 0.1269399987032027\n"
     ]
    }
   ],
   "source": [
    "print(best_hp, np.sqrt(-best_score))"
   ]
  },
  {
   "cell_type": "code",
   "execution_count": 50,
   "metadata": {},
   "outputs": [
    {
     "data": {
      "text/plain": [
       "0.139483177101669"
      ]
     },
     "execution_count": 50,
     "metadata": {},
     "output_type": "execute_result"
    }
   ],
   "source": [
    "model_xgb = xgb.XGBRegressor(learning_rate=l, max_depth=d, n_estimators=n)\n",
    "model_xgb.fit(X_shuffle, y_shuffle)\n",
    "np.sqrt(mean_squared_error(y_test, model_xgb.predict(X_test)))"
   ]
  },
  {
   "cell_type": "code",
   "execution_count": 114,
   "metadata": {},
   "outputs": [],
   "source": [
    "y0 = np.mean(y_train)\n",
    "def MAE(pred, y):\n",
    "    return np.mean(np.abs(pred - y))\n",
    "def R2(pred, y):\n",
    "    return 1 - np.sum((pred - y)**2) / np.sum((y0 - y)**2)"
   ]
  },
  {
   "cell_type": "code",
   "execution_count": 116,
   "metadata": {},
   "outputs": [
    {
     "data": {
      "text/plain": [
       "(0.9978157610873639, 0.8847395521748376)"
      ]
     },
     "execution_count": 116,
     "metadata": {},
     "output_type": "execute_result"
    }
   ],
   "source": [
    "R2(model_xgb.predict(X_train), y_train), R2(model_xgb.predict(X_test), y_test)"
   ]
  },
  {
   "cell_type": "code",
   "execution_count": 138,
   "metadata": {},
   "outputs": [],
   "source": [
    "n_estimators = [200, 300, 400]\n",
    "max_depth = [10, 30, None]\n",
    "learning_rate = [0.5, 0.1, 0.05]\n",
    "hp = list(itertools.product(n_estimators, max_depth, learning_rate))"
   ]
  },
  {
   "cell_type": "code",
   "execution_count": 139,
   "metadata": {},
   "outputs": [
    {
     "name": "stderr",
     "output_type": "stream",
     "text": [
      "100%|██████████| 27/27 [00:50<00:00,  1.87s/it]\n"
     ]
    }
   ],
   "source": [
    "best_hp = None\n",
    "best_score = None\n",
    "for n, d, l in tqdm(hp):\n",
    "       model_xgb = xgb.XGBRegressor(learning_rate=l, max_depth=d, n_estimators=n)\n",
    "       acc_scores = cross_val_score(model_xgb, X_shuffle, y_shuffle,\n",
    "                         scoring='neg_mean_squared_error',\n",
    "                         cv=KFold())\n",
    "       score = acc_scores.mean()\n",
    "       if best_score is None or best_score < score:\n",
    "              best_hp = (n, d, l)\n",
    "              best_score = score"
   ]
  },
  {
   "cell_type": "code",
   "execution_count": 140,
   "metadata": {},
   "outputs": [
    {
     "name": "stdout",
     "output_type": "stream",
     "text": [
      "(400, None, 0.05) 0.12692192896017246\n"
     ]
    }
   ],
   "source": [
    "print(best_hp, np.sqrt(-best_score))"
   ]
  },
  {
   "attachments": {},
   "cell_type": "markdown",
   "metadata": {},
   "source": [
    "# catboost"
   ]
  },
  {
   "cell_type": "code",
   "execution_count": 55,
   "metadata": {},
   "outputs": [
    {
     "name": "stdout",
     "output_type": "stream",
     "text": [
      "Learning rate set to 0.04196\n",
      "0:\tlearn: 0.3876604\ttotal: 5.5ms\tremaining: 5.49s\n",
      "200:\tlearn: 0.0869451\ttotal: 650ms\tremaining: 2.58s\n",
      "400:\tlearn: 0.0633410\ttotal: 1.41s\tremaining: 2.1s\n",
      "600:\tlearn: 0.0489216\ttotal: 2.22s\tremaining: 1.48s\n",
      "800:\tlearn: 0.0388365\ttotal: 2.83s\tremaining: 702ms\n",
      "999:\tlearn: 0.0311821\ttotal: 3.55s\tremaining: 0us\n"
     ]
    },
    {
     "data": {
      "text/plain": [
       "0.13525637150836145"
      ]
     },
     "execution_count": 55,
     "metadata": {},
     "output_type": "execute_result"
    }
   ],
   "source": [
    "from catboost import CatBoostRegressor\n",
    "cat_model = CatBoostRegressor()\n",
    "cat_model.fit(X_train, y_train, verbose=200)\n",
    "np.sqrt(mean_squared_error(y_test, cat_model.predict(X_test)))"
   ]
  },
  {
   "cell_type": "code",
   "execution_count": 130,
   "metadata": {},
   "outputs": [],
   "source": [
    "boosting_type = ['Plain']\n",
    "grow_policy = ['SymmetricTree', 'Depthwise']\n",
    "iterations = [1000]\n",
    "learning_rate = [0.05]\n",
    "depth = [6]\n",
    "hp = list(itertools.product(boosting_type, grow_policy, iterations, learning_rate, depth))"
   ]
  },
  {
   "cell_type": "code",
   "execution_count": null,
   "metadata": {},
   "outputs": [],
   "source": [
    "best_hp = None\n",
    "best_score = None\n",
    "for t, p, it, l, d in tqdm(hp):\n",
    "       model_cat = CatBoostRegressor(boosting_type=t, grow_policy=p, iterations=it, learning_rate=l, depth=d)\n",
    "       acc_scores = cross_val_score(model_cat, X_train, y_train,\n",
    "                         scoring='neg_mean_squared_error',\n",
    "                         cv=KFold(), fit_params={'verbose': 1000})\n",
    "       score = np.sqrt(-acc_scores.mean())\n",
    "       if best_score is None or best_score > score:\n",
    "              best_hp = (t, p, it, l, d)\n",
    "              best_score = score"
   ]
  },
  {
   "cell_type": "code",
   "execution_count": 135,
   "metadata": {},
   "outputs": [
    {
     "name": "stdout",
     "output_type": "stream",
     "text": [
      "('Plain', 'SymmetricTree', 1000, 0.05, 6) 0.1180101655093795\n"
     ]
    }
   ],
   "source": [
    "print(best_hp, best_score)"
   ]
  },
  {
   "cell_type": "code",
   "execution_count": 136,
   "metadata": {},
   "outputs": [
    {
     "name": "stdout",
     "output_type": "stream",
     "text": [
      "0:\tlearn: 0.3855221\ttotal: 20.2ms\tremaining: 20.2s\n",
      "200:\tlearn: 0.0814176\ttotal: 499ms\tremaining: 1.99s\n",
      "400:\tlearn: 0.0576689\ttotal: 997ms\tremaining: 1.49s\n",
      "600:\tlearn: 0.0421539\ttotal: 1.46s\tremaining: 970ms\n",
      "800:\tlearn: 0.0322691\ttotal: 2s\tremaining: 498ms\n",
      "999:\tlearn: 0.0246755\ttotal: 2.51s\tremaining: 0us\n"
     ]
    },
    {
     "data": {
      "text/plain": [
       "(0.9961735913689298, 0.8854716447139432, 0.13570237565084797)"
      ]
     },
     "execution_count": 136,
     "metadata": {},
     "output_type": "execute_result"
    }
   ],
   "source": [
    "t, p, it, l, d = best_hp\n",
    "cat_model = CatBoostRegressor(boosting_type=t, grow_policy=p, iterations=it, learning_rate=l, depth=d)\n",
    "cat_model.fit(X_train, y_train, verbose=200)\n",
    "np.sqrt(mean_squared_error(y_test, cat_model.predict(X_test)))"
   ]
  },
  {
   "cell_type": "code",
   "execution_count": 56,
   "metadata": {},
   "outputs": [],
   "source": [
    "train1, test1 = train_test_split(common_df.iloc[:1460], train_size=0.8, random_state=98987)\n",
    "x1, y1, x2, y2 = *split_x_y(train1), *split_x_y(test1)"
   ]
  },
  {
   "cell_type": "code",
   "execution_count": 59,
   "metadata": {},
   "outputs": [
    {
     "name": "stdout",
     "output_type": "stream",
     "text": [
      "0:\tlearn: 0.3856044\ttotal: 148ms\tremaining: 2m 28s\n",
      "200:\tlearn: 0.0902794\ttotal: 18.6s\tremaining: 1m 14s\n",
      "400:\tlearn: 0.0701437\ttotal: 37.7s\tremaining: 56.4s\n",
      "600:\tlearn: 0.0561539\ttotal: 58.8s\tremaining: 39s\n",
      "800:\tlearn: 0.0477540\ttotal: 1m 24s\tremaining: 21.1s\n",
      "999:\tlearn: 0.0405829\ttotal: 1m 47s\tremaining: 0us\n"
     ]
    },
    {
     "data": {
      "text/plain": [
       "0.1455245226782871"
      ]
     },
     "execution_count": 59,
     "metadata": {},
     "output_type": "execute_result"
    }
   ],
   "source": [
    "cat_ind = np.array([common_df.columns.get_loc(i) for i in cat_coloumns]) - 1\n",
    "cat_model = CatBoostRegressor(cat_features=cat_ind, boosting_type='Plain', learning_rate=0.05, depth=6)\n",
    "cat_model.fit(x1, y1, verbose=200)\n",
    "np.sqrt(mean_squared_error(y2, cat_model.predict(x2)))"
   ]
  },
  {
   "cell_type": "code",
   "execution_count": 60,
   "metadata": {},
   "outputs": [
    {
     "name": "stdout",
     "output_type": "stream",
     "text": [
      "Learning rate set to 0.04196\n",
      "0:\tlearn: 0.3877030\ttotal: 26.5ms\tremaining: 26.4s\n",
      "200:\tlearn: 0.0986407\ttotal: 2.34s\tremaining: 9.3s\n",
      "400:\tlearn: 0.0825530\ttotal: 4.97s\tremaining: 7.42s\n",
      "600:\tlearn: 0.0730927\ttotal: 7.75s\tremaining: 5.15s\n",
      "800:\tlearn: 0.0666231\ttotal: 10.3s\tremaining: 2.56s\n",
      "999:\tlearn: 0.0617593\ttotal: 12.8s\tremaining: 0us\n"
     ]
    },
    {
     "data": {
      "text/plain": [
       "0.13188083610174706"
      ]
     },
     "execution_count": 60,
     "metadata": {},
     "output_type": "execute_result"
    }
   ],
   "source": [
    "cat_model = CatBoostRegressor(boosting_type='Ordered', grow_policy='SymmetricTree', iterations=1000, learning_rate=None, depth=6)\n",
    "cat_model.fit(X_train, y_train, verbose=200)\n",
    "np.sqrt(mean_squared_error(cat_model.predict(X_test), y_test))"
   ]
  },
  {
   "attachments": {},
   "cell_type": "markdown",
   "metadata": {},
   "source": [
    "# lightgbm"
   ]
  },
  {
   "cell_type": "code",
   "execution_count": 61,
   "metadata": {},
   "outputs": [],
   "source": [
    "from lightgbm import LGBMRegressor"
   ]
  },
  {
   "cell_type": "code",
   "execution_count": 75,
   "metadata": {},
   "outputs": [],
   "source": [
    "boosting_type = ['gbdt', 'dart', 'goss']\n",
    "best_hp = None\n",
    "best_score = None\n",
    "for b in boosting_type:\n",
    "    model = LGBMRegressor(boosting_type=b, n_estimators=400, max_depth=10, num_leaves=512)\n",
    "    acc_scores = cross_val_score(model, X_train, y_train,\n",
    "                         scoring='neg_mean_squared_error',\n",
    "                         cv=KFold())\n",
    "    score = np.sqrt(-acc_scores.mean())\n",
    "    if best_score is None or best_score > score:\n",
    "        best_hp = b\n",
    "        best_score = score"
   ]
  },
  {
   "cell_type": "code",
   "execution_count": 77,
   "metadata": {},
   "outputs": [
    {
     "data": {
      "text/plain": [
       "('gbdt', 0.13133688472966787)"
      ]
     },
     "execution_count": 77,
     "metadata": {},
     "output_type": "execute_result"
    }
   ],
   "source": [
    "best_hp, best_score"
   ]
  },
  {
   "cell_type": "code",
   "execution_count": 80,
   "metadata": {},
   "outputs": [
    {
     "data": {
      "text/plain": [
       "0.15130826214667545"
      ]
     },
     "execution_count": 80,
     "metadata": {},
     "output_type": "execute_result"
    }
   ],
   "source": [
    "lightgbm_model = LGBMRegressor(boosting_type=best_hp, n_estimators=400, max_depth=6, num_leaves=512)\n",
    "lightgbm_model.fit(X_train, y_train)\n",
    "np.sqrt(mean_squared_error(y_test, lightgbm_model.predict(X_test)))"
   ]
  },
  {
   "cell_type": "code",
   "execution_count": null,
   "metadata": {},
   "outputs": [],
   "source": [
    "R2(cat_model.predict(X_train), y_train), R2(cat_model.predict(X_test), y_test), np.sqrt(mean_squared_error(y_test, cat_model.predict(X_test)))"
   ]
  },
  {
   "attachments": {},
   "cell_type": "markdown",
   "metadata": {},
   "source": [
    "# sklearn"
   ]
  },
  {
   "cell_type": "code",
   "execution_count": 201,
   "metadata": {},
   "outputs": [
    {
     "data": {
      "text/html": [
       "<style>#sk-container-id-6 {color: black;background-color: white;}#sk-container-id-6 pre{padding: 0;}#sk-container-id-6 div.sk-toggleable {background-color: white;}#sk-container-id-6 label.sk-toggleable__label {cursor: pointer;display: block;width: 100%;margin-bottom: 0;padding: 0.3em;box-sizing: border-box;text-align: center;}#sk-container-id-6 label.sk-toggleable__label-arrow:before {content: \"▸\";float: left;margin-right: 0.25em;color: #696969;}#sk-container-id-6 label.sk-toggleable__label-arrow:hover:before {color: black;}#sk-container-id-6 div.sk-estimator:hover label.sk-toggleable__label-arrow:before {color: black;}#sk-container-id-6 div.sk-toggleable__content {max-height: 0;max-width: 0;overflow: hidden;text-align: left;background-color: #f0f8ff;}#sk-container-id-6 div.sk-toggleable__content pre {margin: 0.2em;color: black;border-radius: 0.25em;background-color: #f0f8ff;}#sk-container-id-6 input.sk-toggleable__control:checked~div.sk-toggleable__content {max-height: 200px;max-width: 100%;overflow: auto;}#sk-container-id-6 input.sk-toggleable__control:checked~label.sk-toggleable__label-arrow:before {content: \"▾\";}#sk-container-id-6 div.sk-estimator input.sk-toggleable__control:checked~label.sk-toggleable__label {background-color: #d4ebff;}#sk-container-id-6 div.sk-label input.sk-toggleable__control:checked~label.sk-toggleable__label {background-color: #d4ebff;}#sk-container-id-6 input.sk-hidden--visually {border: 0;clip: rect(1px 1px 1px 1px);clip: rect(1px, 1px, 1px, 1px);height: 1px;margin: -1px;overflow: hidden;padding: 0;position: absolute;width: 1px;}#sk-container-id-6 div.sk-estimator {font-family: monospace;background-color: #f0f8ff;border: 1px dotted black;border-radius: 0.25em;box-sizing: border-box;margin-bottom: 0.5em;}#sk-container-id-6 div.sk-estimator:hover {background-color: #d4ebff;}#sk-container-id-6 div.sk-parallel-item::after {content: \"\";width: 100%;border-bottom: 1px solid gray;flex-grow: 1;}#sk-container-id-6 div.sk-label:hover label.sk-toggleable__label {background-color: #d4ebff;}#sk-container-id-6 div.sk-serial::before {content: \"\";position: absolute;border-left: 1px solid gray;box-sizing: border-box;top: 0;bottom: 0;left: 50%;z-index: 0;}#sk-container-id-6 div.sk-serial {display: flex;flex-direction: column;align-items: center;background-color: white;padding-right: 0.2em;padding-left: 0.2em;position: relative;}#sk-container-id-6 div.sk-item {position: relative;z-index: 1;}#sk-container-id-6 div.sk-parallel {display: flex;align-items: stretch;justify-content: center;background-color: white;position: relative;}#sk-container-id-6 div.sk-item::before, #sk-container-id-6 div.sk-parallel-item::before {content: \"\";position: absolute;border-left: 1px solid gray;box-sizing: border-box;top: 0;bottom: 0;left: 50%;z-index: -1;}#sk-container-id-6 div.sk-parallel-item {display: flex;flex-direction: column;z-index: 1;position: relative;background-color: white;}#sk-container-id-6 div.sk-parallel-item:first-child::after {align-self: flex-end;width: 50%;}#sk-container-id-6 div.sk-parallel-item:last-child::after {align-self: flex-start;width: 50%;}#sk-container-id-6 div.sk-parallel-item:only-child::after {width: 0;}#sk-container-id-6 div.sk-dashed-wrapped {border: 1px dashed gray;margin: 0 0.4em 0.5em 0.4em;box-sizing: border-box;padding-bottom: 0.4em;background-color: white;}#sk-container-id-6 div.sk-label label {font-family: monospace;font-weight: bold;display: inline-block;line-height: 1.2em;}#sk-container-id-6 div.sk-label-container {text-align: center;}#sk-container-id-6 div.sk-container {/* jupyter's `normalize.less` sets `[hidden] { display: none; }` but bootstrap.min.css set `[hidden] { display: none !important; }` so we also need the `!important` here to be able to override the default hidden behavior on the sphinx rendered scikit-learn.org. See: https://github.com/scikit-learn/scikit-learn/issues/21755 */display: inline-block !important;position: relative;}#sk-container-id-6 div.sk-text-repr-fallback {display: none;}</style><div id=\"sk-container-id-6\" class=\"sk-top-container\"><div class=\"sk-text-repr-fallback\"><pre>RandomForestRegressor(max_depth=40, n_estimators=340)</pre><b>In a Jupyter environment, please rerun this cell to show the HTML representation or trust the notebook. <br />On GitHub, the HTML representation is unable to render, please try loading this page with nbviewer.org.</b></div><div class=\"sk-container\" hidden><div class=\"sk-item\"><div class=\"sk-estimator sk-toggleable\"><input class=\"sk-toggleable__control sk-hidden--visually\" id=\"sk-estimator-id-6\" type=\"checkbox\" checked><label for=\"sk-estimator-id-6\" class=\"sk-toggleable__label sk-toggleable__label-arrow\">RandomForestRegressor</label><div class=\"sk-toggleable__content\"><pre>RandomForestRegressor(max_depth=40, n_estimators=340)</pre></div></div></div></div></div>"
      ],
      "text/plain": [
       "RandomForestRegressor(max_depth=40, n_estimators=340)"
      ]
     },
     "execution_count": 201,
     "metadata": {},
     "output_type": "execute_result"
    }
   ],
   "source": [
    "rfr = RandomForestRegressor(340, max_depth=40)\n",
    "rfr.fit(X_train, y_train)"
   ]
  },
  {
   "cell_type": "code",
   "execution_count": 202,
   "metadata": {},
   "outputs": [
    {
     "data": {
      "text/plain": [
       "0.9823486739897223"
      ]
     },
     "execution_count": 202,
     "metadata": {},
     "output_type": "execute_result"
    }
   ],
   "source": [
    "R2(rfr.predict(X_train), y_train)"
   ]
  },
  {
   "cell_type": "code",
   "execution_count": 67,
   "metadata": {},
   "outputs": [
    {
     "data": {
      "text/plain": [
       "(0.03482047418765675, 0.8880763807318854)"
      ]
     },
     "execution_count": 67,
     "metadata": {},
     "output_type": "execute_result"
    }
   ],
   "source": [
    "MAE(rfr.predict(X_train), y_train), R(rfr.predict(X_train), y_train)"
   ]
  },
  {
   "cell_type": "code",
   "execution_count": 69,
   "metadata": {},
   "outputs": [
    {
     "data": {
      "text/plain": [
       "(0.10298545597688918, 0.6626250959319033)"
      ]
     },
     "execution_count": 69,
     "metadata": {},
     "output_type": "execute_result"
    }
   ],
   "source": [
    "MAE(rfr.predict(X_test), y_test), R(rfr.predict(X_test), y_test)"
   ]
  },
  {
   "cell_type": "code",
   "execution_count": 47,
   "metadata": {},
   "outputs": [
    {
     "data": {
      "text/plain": [
       "array(['gfdcvbn'], dtype=object)"
      ]
     },
     "execution_count": 47,
     "metadata": {},
     "output_type": "execute_result"
    }
   ],
   "source": [
    "from sklearn.linear_model import LinearRegression\n",
    "m = LogisticRegression()\n",
    "m.fit(np.array([[1.0, 2.0], [3.0, 4.0]]), np.array([\"jhbj\", \"gfdcvbn\"], dtype=object))\n",
    "m.predict(np.array([[5.0, 6.0]]))"
   ]
  },
  {
   "cell_type": "code",
   "execution_count": null,
   "metadata": {},
   "outputs": [],
   "source": []
  }
 ],
 "metadata": {
  "kernelspec": {
   "display_name": ".venv",
   "language": "python",
   "name": "python3"
  },
  "language_info": {
   "codemirror_mode": {
    "name": "ipython",
    "version": 3
   },
   "file_extension": ".py",
   "mimetype": "text/x-python",
   "name": "python",
   "nbconvert_exporter": "python",
   "pygments_lexer": "ipython3",
   "version": "3.10.9"
  },
  "orig_nbformat": 4,
  "vscode": {
   "interpreter": {
    "hash": "51835dc0c455b16ba3b6d831756ed9a8328c01ef9c617c5561a1877e13dc83f6"
   }
  }
 },
 "nbformat": 4,
 "nbformat_minor": 2
}
